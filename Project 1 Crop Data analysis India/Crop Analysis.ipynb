{
 "cells": [
  {
   "cell_type": "code",
   "execution_count": 1,
   "id": "6293c02f",
   "metadata": {},
   "outputs": [],
   "source": [
    "import numpy as np\n",
    "import pandas as pd\n",
    "import matplotlib.pyplot as plt\n",
    "import seaborn as sns"
   ]
  },
  {
   "cell_type": "code",
   "execution_count": 2,
   "id": "9400fab4",
   "metadata": {},
   "outputs": [],
   "source": [
    "crop_df = pd.read_csv('Crop Production data.csv')"
   ]
  },
  {
   "cell_type": "code",
   "execution_count": 3,
   "id": "55d8089a",
   "metadata": {},
   "outputs": [
    {
     "data": {
      "text/html": [
       "<div>\n",
       "<style scoped>\n",
       "    .dataframe tbody tr th:only-of-type {\n",
       "        vertical-align: middle;\n",
       "    }\n",
       "\n",
       "    .dataframe tbody tr th {\n",
       "        vertical-align: top;\n",
       "    }\n",
       "\n",
       "    .dataframe thead th {\n",
       "        text-align: right;\n",
       "    }\n",
       "</style>\n",
       "<table border=\"1\" class=\"dataframe\">\n",
       "  <thead>\n",
       "    <tr style=\"text-align: right;\">\n",
       "      <th></th>\n",
       "      <th>State_Name</th>\n",
       "      <th>District_Name</th>\n",
       "      <th>Crop_Year</th>\n",
       "      <th>Season</th>\n",
       "      <th>Crop</th>\n",
       "      <th>Area</th>\n",
       "      <th>Production</th>\n",
       "    </tr>\n",
       "  </thead>\n",
       "  <tbody>\n",
       "    <tr>\n",
       "      <th>0</th>\n",
       "      <td>Andaman and Nicobar Islands</td>\n",
       "      <td>NICOBARS</td>\n",
       "      <td>2000</td>\n",
       "      <td>Kharif</td>\n",
       "      <td>Arecanut</td>\n",
       "      <td>1254.0</td>\n",
       "      <td>2000.0</td>\n",
       "    </tr>\n",
       "    <tr>\n",
       "      <th>1</th>\n",
       "      <td>Andaman and Nicobar Islands</td>\n",
       "      <td>NICOBARS</td>\n",
       "      <td>2000</td>\n",
       "      <td>Kharif</td>\n",
       "      <td>Other Kharif pulses</td>\n",
       "      <td>2.0</td>\n",
       "      <td>1.0</td>\n",
       "    </tr>\n",
       "    <tr>\n",
       "      <th>2</th>\n",
       "      <td>Andaman and Nicobar Islands</td>\n",
       "      <td>NICOBARS</td>\n",
       "      <td>2000</td>\n",
       "      <td>Kharif</td>\n",
       "      <td>Rice</td>\n",
       "      <td>102.0</td>\n",
       "      <td>321.0</td>\n",
       "    </tr>\n",
       "    <tr>\n",
       "      <th>3</th>\n",
       "      <td>Andaman and Nicobar Islands</td>\n",
       "      <td>NICOBARS</td>\n",
       "      <td>2000</td>\n",
       "      <td>Whole Year</td>\n",
       "      <td>Banana</td>\n",
       "      <td>176.0</td>\n",
       "      <td>641.0</td>\n",
       "    </tr>\n",
       "    <tr>\n",
       "      <th>4</th>\n",
       "      <td>Andaman and Nicobar Islands</td>\n",
       "      <td>NICOBARS</td>\n",
       "      <td>2000</td>\n",
       "      <td>Whole Year</td>\n",
       "      <td>Cashewnut</td>\n",
       "      <td>720.0</td>\n",
       "      <td>165.0</td>\n",
       "    </tr>\n",
       "  </tbody>\n",
       "</table>\n",
       "</div>"
      ],
      "text/plain": [
       "                    State_Name District_Name  Crop_Year       Season  \\\n",
       "0  Andaman and Nicobar Islands      NICOBARS       2000  Kharif        \n",
       "1  Andaman and Nicobar Islands      NICOBARS       2000  Kharif        \n",
       "2  Andaman and Nicobar Islands      NICOBARS       2000  Kharif        \n",
       "3  Andaman and Nicobar Islands      NICOBARS       2000  Whole Year    \n",
       "4  Andaman and Nicobar Islands      NICOBARS       2000  Whole Year    \n",
       "\n",
       "                  Crop    Area  Production  \n",
       "0             Arecanut  1254.0      2000.0  \n",
       "1  Other Kharif pulses     2.0         1.0  \n",
       "2                 Rice   102.0       321.0  \n",
       "3               Banana   176.0       641.0  \n",
       "4            Cashewnut   720.0       165.0  "
      ]
     },
     "execution_count": 3,
     "metadata": {},
     "output_type": "execute_result"
    }
   ],
   "source": [
    "crop_df.head()"
   ]
  },
  {
   "cell_type": "code",
   "execution_count": 4,
   "id": "d1c8e398",
   "metadata": {},
   "outputs": [
    {
     "name": "stdout",
     "output_type": "stream",
     "text": [
      "<class 'pandas.core.frame.DataFrame'>\n",
      "RangeIndex: 246091 entries, 0 to 246090\n",
      "Data columns (total 7 columns):\n",
      " #   Column         Non-Null Count   Dtype  \n",
      "---  ------         --------------   -----  \n",
      " 0   State_Name     246091 non-null  object \n",
      " 1   District_Name  246091 non-null  object \n",
      " 2   Crop_Year      246091 non-null  int64  \n",
      " 3   Season         246091 non-null  object \n",
      " 4   Crop           246091 non-null  object \n",
      " 5   Area           246091 non-null  float64\n",
      " 6   Production     242361 non-null  float64\n",
      "dtypes: float64(2), int64(1), object(4)\n",
      "memory usage: 13.1+ MB\n"
     ]
    }
   ],
   "source": [
    "crop_df.info()"
   ]
  },
  {
   "cell_type": "code",
   "execution_count": 5,
   "id": "8f0182d3",
   "metadata": {},
   "outputs": [
    {
     "data": {
      "text/plain": [
       "array([2000, 2001, 2002, 2003, 2004, 2005, 2006, 2010, 1997, 1998, 1999,\n",
       "       2007, 2008, 2009, 2011, 2012, 2013, 2014, 2015], dtype=int64)"
      ]
     },
     "execution_count": 5,
     "metadata": {},
     "output_type": "execute_result"
    }
   ],
   "source": [
    "crop_df['Crop_Year'].unique()"
   ]
  },
  {
   "cell_type": "code",
   "execution_count": 5,
   "id": "3dc4a577",
   "metadata": {},
   "outputs": [
    {
     "data": {
      "text/plain": [
       "State_Name          0\n",
       "District_Name       0\n",
       "Crop_Year           0\n",
       "Season              0\n",
       "Crop                0\n",
       "Area                0\n",
       "Production       3730\n",
       "dtype: int64"
      ]
     },
     "execution_count": 5,
     "metadata": {},
     "output_type": "execute_result"
    }
   ],
   "source": [
    "crop_df.isnull().sum()"
   ]
  },
  {
   "cell_type": "code",
   "execution_count": 6,
   "id": "54ea4c3d",
   "metadata": {},
   "outputs": [],
   "source": [
    "crop_df.dropna(inplace=True)"
   ]
  },
  {
   "cell_type": "code",
   "execution_count": 7,
   "id": "294be972",
   "metadata": {},
   "outputs": [
    {
     "data": {
      "text/plain": [
       "State_Name       0\n",
       "District_Name    0\n",
       "Crop_Year        0\n",
       "Season           0\n",
       "Crop             0\n",
       "Area             0\n",
       "Production       0\n",
       "dtype: int64"
      ]
     },
     "execution_count": 7,
     "metadata": {},
     "output_type": "execute_result"
    }
   ],
   "source": [
    "crop_df.isnull().sum()"
   ]
  },
  {
   "cell_type": "code",
   "execution_count": 8,
   "id": "4489dd56",
   "metadata": {},
   "outputs": [
    {
     "data": {
      "text/plain": [
       "33"
      ]
     },
     "execution_count": 8,
     "metadata": {},
     "output_type": "execute_result"
    }
   ],
   "source": [
    "crop_df.State_Name.nunique()"
   ]
  },
  {
   "cell_type": "code",
   "execution_count": 9,
   "id": "64e4c921",
   "metadata": {},
   "outputs": [
    {
     "data": {
      "text/plain": [
       "646"
      ]
     },
     "execution_count": 9,
     "metadata": {},
     "output_type": "execute_result"
    }
   ],
   "source": [
    "crop_df.District_Name.nunique()"
   ]
  },
  {
   "cell_type": "code",
   "execution_count": 10,
   "id": "2efff92e",
   "metadata": {},
   "outputs": [],
   "source": [
    "crop_df.drop_duplicates(inplace=True)"
   ]
  },
  {
   "cell_type": "code",
   "execution_count": 11,
   "id": "b1a2ed4b",
   "metadata": {},
   "outputs": [
    {
     "data": {
      "text/html": [
       "<div>\n",
       "<style scoped>\n",
       "    .dataframe tbody tr th:only-of-type {\n",
       "        vertical-align: middle;\n",
       "    }\n",
       "\n",
       "    .dataframe tbody tr th {\n",
       "        vertical-align: top;\n",
       "    }\n",
       "\n",
       "    .dataframe thead th {\n",
       "        text-align: right;\n",
       "    }\n",
       "</style>\n",
       "<table border=\"1\" class=\"dataframe\">\n",
       "  <thead>\n",
       "    <tr style=\"text-align: right;\">\n",
       "      <th></th>\n",
       "      <th>State_Name</th>\n",
       "      <th>District_Name</th>\n",
       "      <th>Crop_Year</th>\n",
       "      <th>Season</th>\n",
       "      <th>Crop</th>\n",
       "      <th>Area</th>\n",
       "      <th>Production</th>\n",
       "    </tr>\n",
       "  </thead>\n",
       "  <tbody>\n",
       "    <tr>\n",
       "      <th>0</th>\n",
       "      <td>Andaman and Nicobar Islands</td>\n",
       "      <td>NICOBARS</td>\n",
       "      <td>2000</td>\n",
       "      <td>Kharif</td>\n",
       "      <td>Arecanut</td>\n",
       "      <td>1254.0</td>\n",
       "      <td>2000.0</td>\n",
       "    </tr>\n",
       "    <tr>\n",
       "      <th>1</th>\n",
       "      <td>Andaman and Nicobar Islands</td>\n",
       "      <td>NICOBARS</td>\n",
       "      <td>2000</td>\n",
       "      <td>Kharif</td>\n",
       "      <td>Other Kharif pulses</td>\n",
       "      <td>2.0</td>\n",
       "      <td>1.0</td>\n",
       "    </tr>\n",
       "    <tr>\n",
       "      <th>2</th>\n",
       "      <td>Andaman and Nicobar Islands</td>\n",
       "      <td>NICOBARS</td>\n",
       "      <td>2000</td>\n",
       "      <td>Kharif</td>\n",
       "      <td>Rice</td>\n",
       "      <td>102.0</td>\n",
       "      <td>321.0</td>\n",
       "    </tr>\n",
       "    <tr>\n",
       "      <th>3</th>\n",
       "      <td>Andaman and Nicobar Islands</td>\n",
       "      <td>NICOBARS</td>\n",
       "      <td>2000</td>\n",
       "      <td>Whole Year</td>\n",
       "      <td>Banana</td>\n",
       "      <td>176.0</td>\n",
       "      <td>641.0</td>\n",
       "    </tr>\n",
       "    <tr>\n",
       "      <th>4</th>\n",
       "      <td>Andaman and Nicobar Islands</td>\n",
       "      <td>NICOBARS</td>\n",
       "      <td>2000</td>\n",
       "      <td>Whole Year</td>\n",
       "      <td>Cashewnut</td>\n",
       "      <td>720.0</td>\n",
       "      <td>165.0</td>\n",
       "    </tr>\n",
       "    <tr>\n",
       "      <th>...</th>\n",
       "      <td>...</td>\n",
       "      <td>...</td>\n",
       "      <td>...</td>\n",
       "      <td>...</td>\n",
       "      <td>...</td>\n",
       "      <td>...</td>\n",
       "      <td>...</td>\n",
       "    </tr>\n",
       "    <tr>\n",
       "      <th>246086</th>\n",
       "      <td>West Bengal</td>\n",
       "      <td>PURULIA</td>\n",
       "      <td>2014</td>\n",
       "      <td>Summer</td>\n",
       "      <td>Rice</td>\n",
       "      <td>306.0</td>\n",
       "      <td>801.0</td>\n",
       "    </tr>\n",
       "    <tr>\n",
       "      <th>246087</th>\n",
       "      <td>West Bengal</td>\n",
       "      <td>PURULIA</td>\n",
       "      <td>2014</td>\n",
       "      <td>Summer</td>\n",
       "      <td>Sesamum</td>\n",
       "      <td>627.0</td>\n",
       "      <td>463.0</td>\n",
       "    </tr>\n",
       "    <tr>\n",
       "      <th>246088</th>\n",
       "      <td>West Bengal</td>\n",
       "      <td>PURULIA</td>\n",
       "      <td>2014</td>\n",
       "      <td>Whole Year</td>\n",
       "      <td>Sugarcane</td>\n",
       "      <td>324.0</td>\n",
       "      <td>16250.0</td>\n",
       "    </tr>\n",
       "    <tr>\n",
       "      <th>246089</th>\n",
       "      <td>West Bengal</td>\n",
       "      <td>PURULIA</td>\n",
       "      <td>2014</td>\n",
       "      <td>Winter</td>\n",
       "      <td>Rice</td>\n",
       "      <td>279151.0</td>\n",
       "      <td>597899.0</td>\n",
       "    </tr>\n",
       "    <tr>\n",
       "      <th>246090</th>\n",
       "      <td>West Bengal</td>\n",
       "      <td>PURULIA</td>\n",
       "      <td>2014</td>\n",
       "      <td>Winter</td>\n",
       "      <td>Sesamum</td>\n",
       "      <td>175.0</td>\n",
       "      <td>88.0</td>\n",
       "    </tr>\n",
       "  </tbody>\n",
       "</table>\n",
       "<p>242361 rows × 7 columns</p>\n",
       "</div>"
      ],
      "text/plain": [
       "                         State_Name District_Name  Crop_Year       Season  \\\n",
       "0       Andaman and Nicobar Islands      NICOBARS       2000  Kharif        \n",
       "1       Andaman and Nicobar Islands      NICOBARS       2000  Kharif        \n",
       "2       Andaman and Nicobar Islands      NICOBARS       2000  Kharif        \n",
       "3       Andaman and Nicobar Islands      NICOBARS       2000  Whole Year    \n",
       "4       Andaman and Nicobar Islands      NICOBARS       2000  Whole Year    \n",
       "...                             ...           ...        ...          ...   \n",
       "246086                  West Bengal       PURULIA       2014  Summer        \n",
       "246087                  West Bengal       PURULIA       2014  Summer        \n",
       "246088                  West Bengal       PURULIA       2014  Whole Year    \n",
       "246089                  West Bengal       PURULIA       2014  Winter        \n",
       "246090                  West Bengal       PURULIA       2014  Winter        \n",
       "\n",
       "                       Crop      Area  Production  \n",
       "0                  Arecanut    1254.0      2000.0  \n",
       "1       Other Kharif pulses       2.0         1.0  \n",
       "2                      Rice     102.0       321.0  \n",
       "3                    Banana     176.0       641.0  \n",
       "4                 Cashewnut     720.0       165.0  \n",
       "...                     ...       ...         ...  \n",
       "246086                 Rice     306.0       801.0  \n",
       "246087              Sesamum     627.0       463.0  \n",
       "246088            Sugarcane     324.0     16250.0  \n",
       "246089                 Rice  279151.0    597899.0  \n",
       "246090              Sesamum     175.0        88.0  \n",
       "\n",
       "[242361 rows x 7 columns]"
      ]
     },
     "execution_count": 11,
     "metadata": {},
     "output_type": "execute_result"
    }
   ],
   "source": [
    "crop_df"
   ]
  },
  {
   "cell_type": "code",
   "execution_count": 12,
   "id": "7b3511f3",
   "metadata": {},
   "outputs": [
    {
     "data": {
      "text/plain": [
       "124"
      ]
     },
     "execution_count": 12,
     "metadata": {},
     "output_type": "execute_result"
    }
   ],
   "source": [
    "crop_df.Crop.nunique()"
   ]
  },
  {
   "cell_type": "code",
   "execution_count": 13,
   "id": "6b50bb4e",
   "metadata": {},
   "outputs": [
    {
     "data": {
      "text/plain": [
       "19"
      ]
     },
     "execution_count": 13,
     "metadata": {},
     "output_type": "execute_result"
    }
   ],
   "source": [
    "crop_df.Crop_Year.nunique()"
   ]
  },
  {
   "cell_type": "code",
   "execution_count": 22,
   "id": "ff0eb020",
   "metadata": {},
   "outputs": [
    {
     "data": {
      "text/plain": [
       "array(['Kharif     ', 'Whole Year ', 'Autumn     ', 'Rabi       ',\n",
       "       'Summer     ', 'Winter     '], dtype=object)"
      ]
     },
     "execution_count": 22,
     "metadata": {},
     "output_type": "execute_result"
    }
   ],
   "source": [
    "crop_df.Season.unique()"
   ]
  },
  {
   "cell_type": "code",
   "execution_count": 14,
   "id": "fc29b615",
   "metadata": {},
   "outputs": [],
   "source": [
    "crop_df['Season']=crop_df['Season'].apply(lambda x : x.strip())\n",
    "crop_df['Crop']=crop_df['Crop'].apply(lambda x : x.strip())\n",
    "crop_df['State_Name']=crop_df['State_Name'].apply(lambda x : x.strip())"
   ]
  },
  {
   "cell_type": "code",
   "execution_count": 15,
   "id": "23ec591f",
   "metadata": {},
   "outputs": [],
   "source": [
    "crop_df['Season']=crop_df['Season'].apply(lambda x : x.replace('Autumn','Kharif'))\n",
    "crop_df['Season']=crop_df['Season'].apply(lambda x : x.replace('Summer','Kharif'))\n",
    "crop_df['Season']=crop_df['Season'].apply(lambda x : x.replace('Winter','Rabi'))"
   ]
  },
  {
   "cell_type": "code",
   "execution_count": 17,
   "id": "4fa6f1da",
   "metadata": {},
   "outputs": [
    {
     "data": {
      "text/plain": [
       "array(['Kharif', 'Whole Year', 'Rabi'], dtype=object)"
      ]
     },
     "execution_count": 17,
     "metadata": {},
     "output_type": "execute_result"
    }
   ],
   "source": [
    "crop_df.Season.unique()"
   ]
  },
  {
   "cell_type": "code",
   "execution_count": 18,
   "id": "1868876d",
   "metadata": {},
   "outputs": [
    {
     "data": {
      "text/plain": [
       "Kharif        114024\n",
       "Rabi           72210\n",
       "Whole Year     56127\n",
       "Name: Season, dtype: int64"
      ]
     },
     "execution_count": 18,
     "metadata": {},
     "output_type": "execute_result"
    }
   ],
   "source": [
    "crop_df['Season'].value_counts()"
   ]
  },
  {
   "cell_type": "code",
   "execution_count": 19,
   "id": "49e88e87",
   "metadata": {},
   "outputs": [],
   "source": [
    "crop_df.drop(crop_df[crop_df['Production']==0].index,inplace=True)"
   ]
  },
  {
   "cell_type": "code",
   "execution_count": 23,
   "id": "b6157f4c",
   "metadata": {},
   "outputs": [
    {
     "data": {
      "text/plain": [
       "(238838, 7)"
      ]
     },
     "execution_count": 23,
     "metadata": {},
     "output_type": "execute_result"
    }
   ],
   "source": [
    "crop_df.shape"
   ]
  },
  {
   "cell_type": "code",
   "execution_count": 24,
   "id": "b25f3f65",
   "metadata": {},
   "outputs": [],
   "source": [
    "crop_df['Crop']=crop_df['Crop'].apply(lambda x:x\n",
    "                                    .replace('Papaya','Fruits')\n",
    "                                    .replace('Mango','Fruits')\n",
    "                                     .replace('Orange','Fruits')\n",
    "                                     .replace('Other Fresh Fruits','Fruits')\n",
    "                                     .replace('Pineapple','Fruits')\n",
    "                                     .replace('Citrus Fruit','Fruits')\n",
    "                                     .replace('Pome Fruit','Fruits')\n",
    "                                     .replace('Pome Granet','Fruits')\n",
    "                                     .replace('Grapes','Fruits')\n",
    "                                     .replace('Jack Fruit','Fruits')\n",
    "                                     .replace('Sapota','Fruits')\n",
    "                                     .replace('Lemon','Fruits'))"
   ]
  },
  {
   "cell_type": "code",
   "execution_count": 25,
   "id": "41ef1d06",
   "metadata": {},
   "outputs": [],
   "source": [
    "crop_df['Crop']=crop_df['Crop'].apply(lambda x:x\n",
    "                                    .replace('Ginger','Dry ginger'))\n",
    "\n",
    "crop_df['Crop']=crop_df['Crop'].apply(lambda x:x\n",
    "                                    .replace('Turnip','Onion'))\n",
    "\n",
    "crop_df['Crop']=crop_df['Crop'].apply(lambda x:x\n",
    "                                      .replace('Cashewnut Raw','Cashewnut')\n",
    "                                      .replace('Cashewnut Processed','Cashewnut'))"
   ]
  },
  {
   "cell_type": "code",
   "execution_count": 26,
   "id": "62465a90",
   "metadata": {},
   "outputs": [],
   "source": [
    "crop_df['Crop']=crop_df['Crop'].apply(lambda x:x\n",
    "                                      .replace('black gram','gram')\n",
    "                                     .replace('Moth','gram')\n",
    "                                     .replace('Blackgram','gram'))"
   ]
  },
  {
   "cell_type": "code",
   "execution_count": 27,
   "id": "cfa93b08",
   "metadata": {},
   "outputs": [],
   "source": [
    "crop_df['Crop']=crop_df['Crop'].apply(lambda x:x.replace('Kapas','Cotton(lint)')\n",
    "                                      .replace('Cotton(lint)','Cotton'))\n",
    "\n",
    "crop_df.replace('Jute & mesta','Jute',inplace=True)\n",
    "crop_df.replace('Mesta','Jute',inplace=True)"
   ]
  },
  {
   "cell_type": "code",
   "execution_count": 28,
   "id": "8f3c8a43",
   "metadata": {},
   "outputs": [],
   "source": [
    "crop_df['Crop']=crop_df['Crop'].apply(lambda x:x.replace('Other Kharif pulses','pulses')\n",
    "                                    .replace('Other  Rabi pulses','pulses')\n",
    "                                    .replace('Peas & beans (Pulses)','pulses')\n",
    "                                    .replace('Pulses total','pulses')\n",
    "                                    .replace('other misc. pulses','pulses')\n",
    "                                    .replace('Moong(Green Gram)','pulses')\n",
    "                                    .replace('Urad','pulses')\n",
    "                                    .replace('Arhar/Tur','pulses')\n",
    "                                    .replace('Bean','pulses')\n",
    "                                    .replace('Ricebean (nagadal)','pulses')\n",
    "                                    .replace('Lentil','pulses')\n",
    "                                    .replace('Masoor','pulses')\n",
    "                                    .replace('Khesari','pulses')\n",
    "                                    .replace('Horse-gram','pulses')\n",
    "                                    .replace('Rajmash Kholar','pulses'))"
   ]
  },
  {
   "cell_type": "code",
   "execution_count": 29,
   "id": "037c987a",
   "metadata": {},
   "outputs": [],
   "source": [
    "crop_df['Crop']=crop_df['Crop'].apply(lambda x:x\n",
    "                                      .replace('Oilseeds total' ,'other oilseeds')\n",
    "                                      .replace('Niger seed' ,'other oilseeds'))"
   ]
  },
  {
   "cell_type": "code",
   "execution_count": 30,
   "id": "54a2b176",
   "metadata": {},
   "outputs": [],
   "source": [
    "crop_df['Crop']=crop_df['Crop'].apply(lambda x:x\n",
    "                                      .replace('Other Cereals & Millets' ,'Bajra')\n",
    "                                      .replace('Samai' ,'Bajra')\n",
    "                                      .replace('Small millets' ,'Bajra')\n",
    "                                      .replace('Ragi','Bajra')\n",
    "                                      .replace('Varagu','Bajra')\n",
    "                                      .replace('Jobster','Bajra'))"
   ]
  },
  {
   "cell_type": "code",
   "execution_count": 31,
   "id": "8ca7d1ad",
   "metadata": {},
   "outputs": [],
   "source": [
    "crop_df['Crop']=crop_df['Crop'].apply(lambda x:x\n",
    "                                     .replace('Coriander' ,'Other Vegetables')\n",
    "                                     .replace('pulsess & Mutter(Vegetable)' ,'Other Vegetables')\n",
    "                                     .replace('Bhindi' ,'Other Vegetables')\n",
    "                                     .replace('Tomato','Other Vegetables')\n",
    "                                     .replace('Cowpea(Lobia)','Other Vegetables')\n",
    "                                     .replace('Cabbage','Other Vegetables')\n",
    "                                     .replace('Carrot','Other Vegetables')\n",
    "                                     .replace('Drum Stick','Other Vegetables')\n",
    "                                     .replace('Redish','Other Vegetables')\n",
    "                                     .replace('Cauliflower','Other Vegetables')\n",
    "                                     .replace('Colocosia','Other Vegetables')\n",
    "                                     .replace('Brinjal','Other Vegetables')\n",
    "                                     .replace('Bottle Gourd','Other Vegetables')\n",
    "                                     .replace('Bitter Gourd','Other Vegetables'))"
   ]
  },
  {
   "cell_type": "code",
   "execution_count": 32,
   "id": "59eb624c",
   "metadata": {},
   "outputs": [],
   "source": [
    "crop_df.drop(crop_df[crop_df['Crop']=='Tea'].index,inplace=True)\n",
    "crop_df.drop(crop_df[crop_df['Crop']=='Coffee'].index,inplace=True)\n",
    "crop_df.drop(crop_df[crop_df['Crop']=='Rubber'].index,inplace=True)\n",
    "crop_df.drop(crop_df[crop_df['Crop']=='Cond-spcs other'].index,inplace=True)"
   ]
  },
  {
   "cell_type": "code",
   "execution_count": 33,
   "id": "f1ac5a5c",
   "metadata": {},
   "outputs": [],
   "source": [
    "crop_df['Crop']=crop_df['Crop'].apply(lambda x:x.replace('Niger seed','Sesamum'))\n",
    "crop_df['Crop']=crop_df['Crop'].apply(lambda x:x.replace('Korra','Total foodgrain'))\n",
    "crop_df['Crop']=crop_df['Crop'].apply(lambda x:x.replace('Paddy','Rice'))"
   ]
  },
  {
   "cell_type": "code",
   "execution_count": 34,
   "id": "fd19b70c",
   "metadata": {},
   "outputs": [
    {
     "data": {
      "text/plain": [
       "array(['Arecanut', 'pulses', 'Rice', 'Banana', 'Cashewnut', 'Coconut',\n",
       "       'Dry ginger', 'Sugarcane', 'Sweet potato', 'Tapioca',\n",
       "       'Black pepper', 'Dry chillies', 'other oilseeds', 'Turmeric',\n",
       "       'Maize', 'Groundnut', 'Sunflower', 'Bajra', 'Castor seed',\n",
       "       'Cotton', 'Jowar', 'Total foodgrain', 'Tobacco', 'Gram', 'Wheat',\n",
       "       'Sesamum', 'Linseed', 'Safflower', 'Onion', 'Other Vegetables',\n",
       "       'Potato', 'Fruits', 'Soyabean', 'Jute', 'Rapeseed &Mustard',\n",
       "       'Garlic', 'gram', 'Barley', 'Sannhamp', 'Guar seed',\n",
       "       'Arcanut (Processed)', 'Atcanut (Raw)', 'Cardamom', 'Perilla'],\n",
       "      dtype=object)"
      ]
     },
     "execution_count": 34,
     "metadata": {},
     "output_type": "execute_result"
    }
   ],
   "source": [
    "crop_df.Crop.unique()"
   ]
  },
  {
   "cell_type": "code",
   "execution_count": 35,
   "id": "a6ca2e7f",
   "metadata": {},
   "outputs": [],
   "source": [
    "crop_df.to_csv('Crop_clean.csv')"
   ]
  },
  {
   "cell_type": "code",
   "execution_count": 36,
   "id": "5dabd05b",
   "metadata": {},
   "outputs": [],
   "source": [
    "crop_df['Producation_area_factor']= crop_df['Production'] / crop_df['Area']"
   ]
  },
  {
   "cell_type": "code",
   "execution_count": 37,
   "id": "6e7a2637",
   "metadata": {},
   "outputs": [
    {
     "data": {
      "text/html": [
       "<div>\n",
       "<style scoped>\n",
       "    .dataframe tbody tr th:only-of-type {\n",
       "        vertical-align: middle;\n",
       "    }\n",
       "\n",
       "    .dataframe tbody tr th {\n",
       "        vertical-align: top;\n",
       "    }\n",
       "\n",
       "    .dataframe thead th {\n",
       "        text-align: right;\n",
       "    }\n",
       "</style>\n",
       "<table border=\"1\" class=\"dataframe\">\n",
       "  <thead>\n",
       "    <tr style=\"text-align: right;\">\n",
       "      <th></th>\n",
       "      <th>State_Name</th>\n",
       "      <th>District_Name</th>\n",
       "      <th>Crop_Year</th>\n",
       "      <th>Season</th>\n",
       "      <th>Crop</th>\n",
       "      <th>Area</th>\n",
       "      <th>Production</th>\n",
       "      <th>Producation_area_factor</th>\n",
       "    </tr>\n",
       "  </thead>\n",
       "  <tbody>\n",
       "    <tr>\n",
       "      <th>0</th>\n",
       "      <td>Andaman and Nicobar Islands</td>\n",
       "      <td>NICOBARS</td>\n",
       "      <td>2000</td>\n",
       "      <td>Kharif</td>\n",
       "      <td>Arecanut</td>\n",
       "      <td>1254.0</td>\n",
       "      <td>2000.0</td>\n",
       "      <td>1.594896</td>\n",
       "    </tr>\n",
       "    <tr>\n",
       "      <th>1</th>\n",
       "      <td>Andaman and Nicobar Islands</td>\n",
       "      <td>NICOBARS</td>\n",
       "      <td>2000</td>\n",
       "      <td>Kharif</td>\n",
       "      <td>pulses</td>\n",
       "      <td>2.0</td>\n",
       "      <td>1.0</td>\n",
       "      <td>0.500000</td>\n",
       "    </tr>\n",
       "    <tr>\n",
       "      <th>2</th>\n",
       "      <td>Andaman and Nicobar Islands</td>\n",
       "      <td>NICOBARS</td>\n",
       "      <td>2000</td>\n",
       "      <td>Kharif</td>\n",
       "      <td>Rice</td>\n",
       "      <td>102.0</td>\n",
       "      <td>321.0</td>\n",
       "      <td>3.147059</td>\n",
       "    </tr>\n",
       "    <tr>\n",
       "      <th>3</th>\n",
       "      <td>Andaman and Nicobar Islands</td>\n",
       "      <td>NICOBARS</td>\n",
       "      <td>2000</td>\n",
       "      <td>Whole Year</td>\n",
       "      <td>Banana</td>\n",
       "      <td>176.0</td>\n",
       "      <td>641.0</td>\n",
       "      <td>3.642045</td>\n",
       "    </tr>\n",
       "    <tr>\n",
       "      <th>4</th>\n",
       "      <td>Andaman and Nicobar Islands</td>\n",
       "      <td>NICOBARS</td>\n",
       "      <td>2000</td>\n",
       "      <td>Whole Year</td>\n",
       "      <td>Cashewnut</td>\n",
       "      <td>720.0</td>\n",
       "      <td>165.0</td>\n",
       "      <td>0.229167</td>\n",
       "    </tr>\n",
       "    <tr>\n",
       "      <th>...</th>\n",
       "      <td>...</td>\n",
       "      <td>...</td>\n",
       "      <td>...</td>\n",
       "      <td>...</td>\n",
       "      <td>...</td>\n",
       "      <td>...</td>\n",
       "      <td>...</td>\n",
       "      <td>...</td>\n",
       "    </tr>\n",
       "    <tr>\n",
       "      <th>246086</th>\n",
       "      <td>West Bengal</td>\n",
       "      <td>PURULIA</td>\n",
       "      <td>2014</td>\n",
       "      <td>Kharif</td>\n",
       "      <td>Rice</td>\n",
       "      <td>306.0</td>\n",
       "      <td>801.0</td>\n",
       "      <td>2.617647</td>\n",
       "    </tr>\n",
       "    <tr>\n",
       "      <th>246087</th>\n",
       "      <td>West Bengal</td>\n",
       "      <td>PURULIA</td>\n",
       "      <td>2014</td>\n",
       "      <td>Kharif</td>\n",
       "      <td>Sesamum</td>\n",
       "      <td>627.0</td>\n",
       "      <td>463.0</td>\n",
       "      <td>0.738437</td>\n",
       "    </tr>\n",
       "    <tr>\n",
       "      <th>246088</th>\n",
       "      <td>West Bengal</td>\n",
       "      <td>PURULIA</td>\n",
       "      <td>2014</td>\n",
       "      <td>Whole Year</td>\n",
       "      <td>Sugarcane</td>\n",
       "      <td>324.0</td>\n",
       "      <td>16250.0</td>\n",
       "      <td>50.154321</td>\n",
       "    </tr>\n",
       "    <tr>\n",
       "      <th>246089</th>\n",
       "      <td>West Bengal</td>\n",
       "      <td>PURULIA</td>\n",
       "      <td>2014</td>\n",
       "      <td>Rabi</td>\n",
       "      <td>Rice</td>\n",
       "      <td>279151.0</td>\n",
       "      <td>597899.0</td>\n",
       "      <td>2.141848</td>\n",
       "    </tr>\n",
       "    <tr>\n",
       "      <th>246090</th>\n",
       "      <td>West Bengal</td>\n",
       "      <td>PURULIA</td>\n",
       "      <td>2014</td>\n",
       "      <td>Rabi</td>\n",
       "      <td>Sesamum</td>\n",
       "      <td>175.0</td>\n",
       "      <td>88.0</td>\n",
       "      <td>0.502857</td>\n",
       "    </tr>\n",
       "  </tbody>\n",
       "</table>\n",
       "<p>238723 rows × 8 columns</p>\n",
       "</div>"
      ],
      "text/plain": [
       "                         State_Name District_Name  Crop_Year      Season  \\\n",
       "0       Andaman and Nicobar Islands      NICOBARS       2000      Kharif   \n",
       "1       Andaman and Nicobar Islands      NICOBARS       2000      Kharif   \n",
       "2       Andaman and Nicobar Islands      NICOBARS       2000      Kharif   \n",
       "3       Andaman and Nicobar Islands      NICOBARS       2000  Whole Year   \n",
       "4       Andaman and Nicobar Islands      NICOBARS       2000  Whole Year   \n",
       "...                             ...           ...        ...         ...   \n",
       "246086                  West Bengal       PURULIA       2014      Kharif   \n",
       "246087                  West Bengal       PURULIA       2014      Kharif   \n",
       "246088                  West Bengal       PURULIA       2014  Whole Year   \n",
       "246089                  West Bengal       PURULIA       2014        Rabi   \n",
       "246090                  West Bengal       PURULIA       2014        Rabi   \n",
       "\n",
       "             Crop      Area  Production  Producation_area_factor  \n",
       "0        Arecanut    1254.0      2000.0                 1.594896  \n",
       "1          pulses       2.0         1.0                 0.500000  \n",
       "2            Rice     102.0       321.0                 3.147059  \n",
       "3          Banana     176.0       641.0                 3.642045  \n",
       "4       Cashewnut     720.0       165.0                 0.229167  \n",
       "...           ...       ...         ...                      ...  \n",
       "246086       Rice     306.0       801.0                 2.617647  \n",
       "246087    Sesamum     627.0       463.0                 0.738437  \n",
       "246088  Sugarcane     324.0     16250.0                50.154321  \n",
       "246089       Rice  279151.0    597899.0                 2.141848  \n",
       "246090    Sesamum     175.0        88.0                 0.502857  \n",
       "\n",
       "[238723 rows x 8 columns]"
      ]
     },
     "execution_count": 37,
     "metadata": {},
     "output_type": "execute_result"
    }
   ],
   "source": [
    "crop_df"
   ]
  },
  {
   "cell_type": "code",
   "execution_count": 38,
   "id": "a6d4d581",
   "metadata": {},
   "outputs": [
    {
     "data": {
      "text/plain": [
       "(91.0, 4700.0)"
      ]
     },
     "execution_count": 38,
     "metadata": {},
     "output_type": "execute_result"
    }
   ],
   "source": [
    "Q1 = crop_df['Area'].quantile(0.25)\n",
    "Q3 = crop_df['Area'].quantile(0.75)\n",
    "Q1, Q3"
   ]
  },
  {
   "cell_type": "code",
   "execution_count": 39,
   "id": "b25271a4",
   "metadata": {},
   "outputs": [],
   "source": [
    "IQR = Q3 - Q1"
   ]
  },
  {
   "cell_type": "code",
   "execution_count": 40,
   "id": "abde8b01",
   "metadata": {},
   "outputs": [
    {
     "data": {
      "text/plain": [
       "(-6822.5, 11613.5)"
      ]
     },
     "execution_count": 40,
     "metadata": {},
     "output_type": "execute_result"
    }
   ],
   "source": [
    "lower_limit = Q1 - 1.5*IQR\n",
    "upper_limit = Q3 + 1.5*IQR\n",
    "lower_limit,upper_limit"
   ]
  },
  {
   "cell_type": "code",
   "execution_count": 41,
   "id": "8dcca466",
   "metadata": {},
   "outputs": [],
   "source": [
    "area_outlier = crop_df[(crop_df['Area'] < lower_limit) | (crop_df['Area'] > upper_limit)]"
   ]
  },
  {
   "cell_type": "code",
   "execution_count": 42,
   "id": "a9549c8d",
   "metadata": {},
   "outputs": [
    {
     "data": {
      "text/plain": [
       "Rice                   9138\n",
       "Wheat                  5080\n",
       "pulses                 4668\n",
       "Maize                  2514\n",
       "Bajra                  2312\n",
       "Gram                   1974\n",
       "Jowar                  1902\n",
       "Cotton                 1474\n",
       "Rapeseed &Mustard      1469\n",
       "Groundnut              1449\n",
       "Sugarcane              1321\n",
       "Soyabean               1069\n",
       "Sesamum                 574\n",
       "Coconut                 556\n",
       "Sunflower               498\n",
       "Potato                  387\n",
       "Jute                    298\n",
       "Guar seed               246\n",
       "Castor seed             241\n",
       "other oilseeds          238\n",
       "Dry chillies            173\n",
       "Cashewnut               163\n",
       "Arecanut                155\n",
       "Barley                  154\n",
       "Total foodgrain         153\n",
       "Tobacco                 144\n",
       "Safflower               137\n",
       "Other Vegetables        111\n",
       "gram                    103\n",
       "Linseed                  99\n",
       "Tapioca                  93\n",
       "Onion                    83\n",
       "Fruits                   63\n",
       "Black pepper             55\n",
       "Banana                   33\n",
       "Turmeric                 30\n",
       "Cardamom                 16\n",
       "Garlic                   11\n",
       "Arcanut (Processed)       7\n",
       "Atcanut (Raw)             7\n",
       "Dry ginger                6\n",
       "Name: Crop, dtype: int64"
      ]
     },
     "execution_count": 42,
     "metadata": {},
     "output_type": "execute_result"
    }
   ],
   "source": [
    "area_outlier['Crop'].value_counts()"
   ]
  },
  {
   "cell_type": "code",
   "execution_count": 43,
   "id": "dee6a036",
   "metadata": {},
   "outputs": [],
   "source": [
    "West_India= ['Maharashtra','Goa','Gujarat','Dadra and Nagar Haveli']\n",
    "East_India= ['Arunachal Pradesh','Assam','Manipur','Meghalaya','Mizoram','Nagaland','Sikkim','Tripura','West Bengal','Bihar','Odisha','Jharkhand' ]\n",
    "North_India=['Jammu and Kashmir ','Himachal Pradesh','Punjab','Uttarakhand','Haryana','Rajasthan','Uttar Pradesh','Chandigarh','Madhya Pradesh','Chhattisgarh']\n",
    "South_India = ['Andhra Pradesh','Karnataka','Kerala','Tamil Nadu','Telangana','Puducherry']"
   ]
  },
  {
   "cell_type": "code",
   "execution_count": 46,
   "id": "576aad9b",
   "metadata": {},
   "outputs": [],
   "source": [
    "area_zone = []\n",
    "\n",
    "for state in crop_df['State_Name']:\n",
    "    if state in West_India:\n",
    "         area_zone.append('West India')\n",
    "    elif state in East_India:\n",
    "         area_zone.append('EastIndia')\n",
    "    elif state in North_India:\n",
    "         area_zone.append('North India')\n",
    "    elif state in South_India: \n",
    "         area_zone.append('South India')\n",
    "    else:\n",
    "         area_zone.append('Union Territory')"
   ]
  },
  {
   "cell_type": "code",
   "execution_count": 47,
   "id": "6cdaa590",
   "metadata": {},
   "outputs": [],
   "source": [
    "crop_df['area_zone'] = area_zone"
   ]
  },
  {
   "cell_type": "code",
   "execution_count": 48,
   "id": "b26364c4",
   "metadata": {},
   "outputs": [
    {
     "data": {
      "text/html": [
       "<div>\n",
       "<style scoped>\n",
       "    .dataframe tbody tr th:only-of-type {\n",
       "        vertical-align: middle;\n",
       "    }\n",
       "\n",
       "    .dataframe tbody tr th {\n",
       "        vertical-align: top;\n",
       "    }\n",
       "\n",
       "    .dataframe thead th {\n",
       "        text-align: right;\n",
       "    }\n",
       "</style>\n",
       "<table border=\"1\" class=\"dataframe\">\n",
       "  <thead>\n",
       "    <tr style=\"text-align: right;\">\n",
       "      <th></th>\n",
       "      <th>State_Name</th>\n",
       "      <th>District_Name</th>\n",
       "      <th>Crop_Year</th>\n",
       "      <th>Season</th>\n",
       "      <th>Crop</th>\n",
       "      <th>Area</th>\n",
       "      <th>Production</th>\n",
       "      <th>Producation_area_factor</th>\n",
       "      <th>area_zone</th>\n",
       "    </tr>\n",
       "  </thead>\n",
       "  <tbody>\n",
       "    <tr>\n",
       "      <th>0</th>\n",
       "      <td>Andaman and Nicobar Islands</td>\n",
       "      <td>NICOBARS</td>\n",
       "      <td>2000</td>\n",
       "      <td>Kharif</td>\n",
       "      <td>Arecanut</td>\n",
       "      <td>1254.0</td>\n",
       "      <td>2000.0</td>\n",
       "      <td>1.594896</td>\n",
       "      <td>Union Territory</td>\n",
       "    </tr>\n",
       "    <tr>\n",
       "      <th>1</th>\n",
       "      <td>Andaman and Nicobar Islands</td>\n",
       "      <td>NICOBARS</td>\n",
       "      <td>2000</td>\n",
       "      <td>Kharif</td>\n",
       "      <td>pulses</td>\n",
       "      <td>2.0</td>\n",
       "      <td>1.0</td>\n",
       "      <td>0.500000</td>\n",
       "      <td>Union Territory</td>\n",
       "    </tr>\n",
       "    <tr>\n",
       "      <th>2</th>\n",
       "      <td>Andaman and Nicobar Islands</td>\n",
       "      <td>NICOBARS</td>\n",
       "      <td>2000</td>\n",
       "      <td>Kharif</td>\n",
       "      <td>Rice</td>\n",
       "      <td>102.0</td>\n",
       "      <td>321.0</td>\n",
       "      <td>3.147059</td>\n",
       "      <td>Union Territory</td>\n",
       "    </tr>\n",
       "    <tr>\n",
       "      <th>3</th>\n",
       "      <td>Andaman and Nicobar Islands</td>\n",
       "      <td>NICOBARS</td>\n",
       "      <td>2000</td>\n",
       "      <td>Whole Year</td>\n",
       "      <td>Banana</td>\n",
       "      <td>176.0</td>\n",
       "      <td>641.0</td>\n",
       "      <td>3.642045</td>\n",
       "      <td>Union Territory</td>\n",
       "    </tr>\n",
       "    <tr>\n",
       "      <th>4</th>\n",
       "      <td>Andaman and Nicobar Islands</td>\n",
       "      <td>NICOBARS</td>\n",
       "      <td>2000</td>\n",
       "      <td>Whole Year</td>\n",
       "      <td>Cashewnut</td>\n",
       "      <td>720.0</td>\n",
       "      <td>165.0</td>\n",
       "      <td>0.229167</td>\n",
       "      <td>Union Territory</td>\n",
       "    </tr>\n",
       "  </tbody>\n",
       "</table>\n",
       "</div>"
      ],
      "text/plain": [
       "                    State_Name District_Name  Crop_Year      Season  \\\n",
       "0  Andaman and Nicobar Islands      NICOBARS       2000      Kharif   \n",
       "1  Andaman and Nicobar Islands      NICOBARS       2000      Kharif   \n",
       "2  Andaman and Nicobar Islands      NICOBARS       2000      Kharif   \n",
       "3  Andaman and Nicobar Islands      NICOBARS       2000  Whole Year   \n",
       "4  Andaman and Nicobar Islands      NICOBARS       2000  Whole Year   \n",
       "\n",
       "        Crop    Area  Production  Producation_area_factor        area_zone  \n",
       "0   Arecanut  1254.0      2000.0                 1.594896  Union Territory  \n",
       "1     pulses     2.0         1.0                 0.500000  Union Territory  \n",
       "2       Rice   102.0       321.0                 3.147059  Union Territory  \n",
       "3     Banana   176.0       641.0                 3.642045  Union Territory  \n",
       "4  Cashewnut   720.0       165.0                 0.229167  Union Territory  "
      ]
     },
     "execution_count": 48,
     "metadata": {},
     "output_type": "execute_result"
    }
   ],
   "source": [
    "crop_df.head()"
   ]
  },
  {
   "cell_type": "code",
   "execution_count": 49,
   "id": "e4f8a932",
   "metadata": {},
   "outputs": [],
   "source": [
    "crop_df.drop(crop_df[crop_df['Crop_Year'] == 2015].index,inplace=True)"
   ]
  },
  {
   "cell_type": "code",
   "execution_count": 50,
   "id": "220be5d7",
   "metadata": {},
   "outputs": [
    {
     "name": "stderr",
     "output_type": "stream",
     "text": [
      "C:\\Users\\dell\\AppData\\Local\\Temp\\ipykernel_11928\\1138868194.py:1: FutureWarning: The default value of numeric_only in DataFrameGroupBy.sum is deprecated. In a future version, numeric_only will default to False. Either specify numeric_only or select only columns which should be valid for the function.\n",
      "  val=crop_df.groupby('Crop').sum().sort_values(by='Production',ascending = False)['Production'].values\n",
      "C:\\Users\\dell\\AppData\\Local\\Temp\\ipykernel_11928\\1138868194.py:2: FutureWarning: The default value of numeric_only in DataFrameGroupBy.sum is deprecated. In a future version, numeric_only will default to False. Either specify numeric_only or select only columns which should be valid for the function.\n",
      "  lab=crop_df.groupby('Crop').sum().sort_values(by='Production',ascending = False)['Production'].index\n"
     ]
    }
   ],
   "source": [
    "val=crop_df.groupby('Crop').sum().sort_values(by='Production',ascending = False)['Production'].values\n",
    "lab=crop_df.groupby('Crop').sum().sort_values(by='Production',ascending = False)['Production'].index"
   ]
  },
  {
   "cell_type": "code",
   "execution_count": 51,
   "id": "8430078c",
   "metadata": {},
   "outputs": [
    {
     "data": {
      "image/png": "[encoded data removed]",
      "text/plain": [
       "<Figure size 720x576 with 1 Axes>"
      ]
     },
     "metadata": {},
     "output_type": "display_data"
    }
   ],
   "source": [
    "plt.figure(figsize=(10,8))\n",
    "plt.pie(val,labels=lab,autopct='%0.1f%%')\n",
    "plt.show()"
   ]
  },
  {
   "cell_type": "code",
   "execution_count": 52,
   "id": "618f0861",
   "metadata": {},
   "outputs": [],
   "source": [
    "coconut_df = crop_df[crop_df['Crop'] == 'Coconut']\n",
    "\n",
    "coconut_df.to_csv('coconut_df.csv')\n",
    "\n",
    "crop_df.drop(crop_df[crop_df['Crop']=='Coconut'].index,inplace=True)"
   ]
  },
  {
   "cell_type": "code",
   "execution_count": 53,
   "id": "01936647",
   "metadata": {},
   "outputs": [
    {
     "name": "stderr",
     "output_type": "stream",
     "text": [
      "C:\\Users\\dell\\AppData\\Local\\Temp\\ipykernel_11928\\1138868194.py:1: FutureWarning: The default value of numeric_only in DataFrameGroupBy.sum is deprecated. In a future version, numeric_only will default to False. Either specify numeric_only or select only columns which should be valid for the function.\n",
      "  val=crop_df.groupby('Crop').sum().sort_values(by='Production',ascending = False)['Production'].values\n",
      "C:\\Users\\dell\\AppData\\Local\\Temp\\ipykernel_11928\\1138868194.py:2: FutureWarning: The default value of numeric_only in DataFrameGroupBy.sum is deprecated. In a future version, numeric_only will default to False. Either specify numeric_only or select only columns which should be valid for the function.\n",
      "  lab=crop_df.groupby('Crop').sum().sort_values(by='Production',ascending = False)['Production'].index\n"
     ]
    }
   ],
   "source": [
    "val=crop_df.groupby('Crop').sum().sort_values(by='Production',ascending = False)['Production'].values\n",
    "lab=crop_df.groupby('Crop').sum().sort_values(by='Production',ascending = False)['Production'].index"
   ]
  },
  {
   "cell_type": "code",
   "execution_count": 56,
   "id": "2f6f2417",
   "metadata": {},
   "outputs": [
    {
     "data": {
      "image/png": "[encoded data removed]",
      "text/plain": [
       "<Figure size 720x576 with 1 Axes>"
      ]
     },
     "metadata": {},
     "output_type": "display_data"
    }
   ],
   "source": [
    "plt.figure(figsize=(10,8))\n",
    "plt.pie(val,labels=lab,autopct='%0.1f%%')\n",
    "plt.show()"
   ]
  },
  {
   "cell_type": "code",
   "execution_count": 57,
   "id": "4d7a0536",
   "metadata": {},
   "outputs": [],
   "source": [
    "crop_df.to_csv('final_crop.csv')"
   ]
  },
  {
   "cell_type": "code",
   "execution_count": null,
   "id": "56711c35",
   "metadata": {},
   "outputs": [],
   "source": []
  }
 ],
 "metadata": {
  "kernelspec": {
   "display_name": "Python 3 (ipykernel)",
   "language": "python",
   "name": "python3"
  },
  "language_info": {
   "codemirror_mode": {
    "name": "ipython",
    "version": 3
   },
   "file_extension": ".py",
   "mimetype": "text/x-python",
   "name": "python",
   "nbconvert_exporter": "python",
   "pygments_lexer": "ipython3",
   "version": "3.9.12"
  }
 },
 "nbformat": 4,
 "nbformat_minor": 5
}
